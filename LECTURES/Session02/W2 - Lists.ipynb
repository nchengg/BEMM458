{
 "cells": [
  {
   "cell_type": "markdown",
   "id": "8a233c5e",
   "metadata": {},
   "source": [
    "# Python lists\n",
    "So far, we’ve worked with single values like numbers and strings. But very often, we need to keep track of **multiple items** at once — like a list of names, grades, or shopping items. In Python, we use the data type called a list."
   ]
  },
  {
   "cell_type": "markdown",
   "id": "b58739db",
   "metadata": {},
   "source": [
    "### Defining a list\n",
    "Lists are written inside **square brackets** `[]`, separated by commas.\n",
    " \n"
   ]
  },
  {
   "cell_type": "code",
   "execution_count": 22,
   "id": "9e0d214d",
   "metadata": {},
   "outputs": [],
   "source": [
    "fruits = [\"apple\", \"banana\", \"cherry\"]\n",
    "numbers = [1, 2, 3, 4, 5]\n"
   ]
  },
  {
   "cell_type": "markdown",
   "id": "b42e1f50",
   "metadata": {},
   "source": [
    "Python lists can contain any type of data. Even a mix of types."
   ]
  },
  {
   "cell_type": "code",
   "execution_count": 23,
   "id": "d0eaeccc",
   "metadata": {},
   "outputs": [],
   "source": [
    "mixed = [\"hello\", 3.14, True, 42]"
   ]
  },
  {
   "cell_type": "markdown",
   "id": "6313b3d8",
   "metadata": {},
   "source": [
    "### Finding the Length of a List\n",
    "Use the `len()` function to find how many items are in a list."
   ]
  },
  {
   "cell_type": "code",
   "execution_count": 54,
   "id": "667a9968",
   "metadata": {},
   "outputs": [
    {
     "name": "stdout",
     "output_type": "stream",
     "text": [
      "3\n"
     ]
    }
   ],
   "source": [
    "guests = [\"Alice\", \"Bob\", \"Charlie\"]\n",
    "print(len(guests))  # 3\n"
   ]
  },
  {
   "cell_type": "markdown",
   "id": "df3c5aad",
   "metadata": {},
   "source": [
    "### Accessing Elements by Index\n",
    "Python uses a zezo-based indexing (the first element is the one of index 0).\n",
    "The last element of a list with `n` elements is the one of position `n - 1`\n"
   ]
  },
  {
   "cell_type": "code",
   "execution_count": 24,
   "id": "e60d3352",
   "metadata": {},
   "outputs": [
    {
     "name": "stdout",
     "output_type": "stream",
     "text": [
      "apple\n",
      "banana\n",
      "cherry\n"
     ]
    }
   ],
   "source": [
    "fruits = [\"apple\", \"banana\", \"cherry\"]\n",
    "print(fruits[0])  # Output: apple\n",
    "print(fruits[1])  # Output: banana\n",
    "print(fruits[2])  # Output: cherry"
   ]
  },
  {
   "cell_type": "markdown",
   "id": "dea68fe9",
   "metadata": {},
   "source": [
    "Negative indices count from the end:"
   ]
  },
  {
   "cell_type": "code",
   "execution_count": null,
   "id": "74aae550",
   "metadata": {},
   "outputs": [
    {
     "name": "stdout",
     "output_type": "stream",
     "text": [
      "cherry\n",
      "banana\n",
      "apple\n"
     ]
    }
   ],
   "source": [
    "print(fruits[-1])  # Output: cherry\n",
    "print(fruits[-2])  # Output: banana\n",
    "print(fruits[-3])  # Output: apple"
   ]
  },
  {
   "cell_type": "markdown",
   "id": "36b1c031",
   "metadata": {},
   "source": [
    "### Avoiding Index Errors\n",
    "Python will throw an `IndexError` if you try to access an element that doesn’t exist."
   ]
  },
  {
   "cell_type": "code",
   "execution_count": 55,
   "id": "f7b8514f",
   "metadata": {},
   "outputs": [
    {
     "ename": "IndexError",
     "evalue": "list index out of range",
     "output_type": "error",
     "traceback": [
      "\u001b[31m---------------------------------------------------------------------------\u001b[39m",
      "\u001b[31mIndexError\u001b[39m                                Traceback (most recent call last)",
      "\u001b[36mCell\u001b[39m\u001b[36m \u001b[39m\u001b[32mIn[55]\u001b[39m\u001b[32m, line 2\u001b[39m\n\u001b[32m      1\u001b[39m colours = [\u001b[33m\"\u001b[39m\u001b[33mred\u001b[39m\u001b[33m\"\u001b[39m, \u001b[33m\"\u001b[39m\u001b[33mgreen\u001b[39m\u001b[33m\"\u001b[39m, \u001b[33m\"\u001b[39m\u001b[33mblue\u001b[39m\u001b[33m\"\u001b[39m]\n\u001b[32m----> \u001b[39m\u001b[32m2\u001b[39m \u001b[38;5;28mprint\u001b[39m(\u001b[43mcolours\u001b[49m\u001b[43m[\u001b[49m\u001b[32;43m3\u001b[39;49m\u001b[43m]\u001b[49m) \n",
      "\u001b[31mIndexError\u001b[39m: list index out of range"
     ]
    }
   ],
   "source": [
    "colours = [\"red\", \"green\", \"blue\"]\n",
    "print(colours[3]) "
   ]
  },
  {
   "cell_type": "markdown",
   "id": "cb72c3d4",
   "metadata": {},
   "source": [
    "Lists are mutable, which means we can change items after creating the list."
   ]
  },
  {
   "cell_type": "code",
   "execution_count": null,
   "id": "af4ae53a",
   "metadata": {},
   "outputs": [
    {
     "name": "stdout",
     "output_type": "stream",
     "text": [
      "['apple', 'blueberry', 'cherry']\n"
     ]
    }
   ],
   "source": [
    "fruits = [\"apple\", \"banana\", \"cherry\"]\n",
    "\n",
    "fruits[1] = \"blueberry\"\n",
    "fruits  # Output: ['apple', 'blueberry', 'cherry']"
   ]
  },
  {
   "cell_type": "markdown",
   "id": "821b0b5c",
   "metadata": {},
   "source": [
    "### Adding elements to a list\n",
    "There are different ways in which you can add elements to a Python list."
   ]
  },
  {
   "cell_type": "markdown",
   "id": "09d646da",
   "metadata": {},
   "source": [
    "`.append()` → adds an element to the end of a list."
   ]
  },
  {
   "cell_type": "code",
   "execution_count": 27,
   "id": "3e5ec68f",
   "metadata": {},
   "outputs": [
    {
     "name": "stdout",
     "output_type": "stream",
     "text": [
      "['apple', 'blueberry', 'cherry', 'orange']\n"
     ]
    }
   ],
   "source": [
    "fruits.append(\"orange\")\n",
    "print(fruits)  # ['apple', 'blueberry', 'cherry', 'orange']"
   ]
  },
  {
   "cell_type": "markdown",
   "id": "afeae4ae",
   "metadata": {},
   "source": [
    "`.insert()` → adds at a specific index."
   ]
  },
  {
   "cell_type": "code",
   "execution_count": 28,
   "id": "1bf0ea0f",
   "metadata": {},
   "outputs": [
    {
     "name": "stdout",
     "output_type": "stream",
     "text": [
      "['apple', 'mango', 'blueberry', 'cherry', 'orange']\n"
     ]
    }
   ],
   "source": [
    "fruits.insert(1, \"mango\")\n",
    "print(fruits)  # ['apple', 'mango', 'blueberry', 'cherry', 'orange']\n"
   ]
  },
  {
   "cell_type": "markdown",
   "id": "c16aef6b",
   "metadata": {},
   "source": [
    "### Removing elements from a list\n",
    "There are different ways in which you can remove elements from a Python list.\n",
    "\n",
    "`del` → remove a specific item."
   ]
  },
  {
   "cell_type": "code",
   "execution_count": 7,
   "id": "c5f97fee",
   "metadata": {},
   "outputs": [
    {
     "data": {
      "text/plain": [
       "['mango', 'blueberry', 'cherry', 'orange']"
      ]
     },
     "execution_count": 7,
     "metadata": {},
     "output_type": "execute_result"
    }
   ],
   "source": [
    "fruits = ['apple', 'mango', 'blueberry', 'cherry', 'orange']\n",
    "del fruits[0]\n",
    "fruits # ['mango', 'blueberry', 'cherry', 'orange']"
   ]
  },
  {
   "cell_type": "markdown",
   "id": "bcdd0fde",
   "metadata": {},
   "source": [
    "`.pop()` → remove by index and return the value."
   ]
  },
  {
   "cell_type": "code",
   "execution_count": 8,
   "id": "2b30cb16",
   "metadata": {},
   "outputs": [
    {
     "data": {
      "text/plain": [
       "['blueberry', 'cherry']"
      ]
     },
     "execution_count": 8,
     "metadata": {},
     "output_type": "execute_result"
    }
   ],
   "source": [
    "first = fruits.pop(0)  # removes first item\n",
    "first # 'mango'\n",
    "fruits # ['blueberry', 'cherry', 'orange']\n",
    "last = fruits.pop()   # removes last item\n",
    "last   # 'orange'\n",
    "fruits # ['blueberry', 'cherry']"
   ]
  },
  {
   "cell_type": "markdown",
   "id": "e6fdf417",
   "metadata": {},
   "source": [
    "`.remove()` → remove by value (first occurrence)."
   ]
  },
  {
   "cell_type": "code",
   "execution_count": null,
   "id": "c061aa06",
   "metadata": {},
   "outputs": [
    {
     "name": "stdout",
     "output_type": "stream",
     "text": [
      "['blueberry']\n"
     ]
    }
   ],
   "source": [
    "fruits.remove(\"cherry\")\n",
    "print(fruits) # ['blueberry']"
   ]
  },
  {
   "cell_type": "markdown",
   "id": "4c195250",
   "metadata": {},
   "source": [
    "## Organizing lists"
   ]
  },
  {
   "cell_type": "markdown",
   "id": "5a3ca461",
   "metadata": {},
   "source": [
    "Once we know how to create and modify lists, the next step is to organize them. Python gives us tools to sort, reverse, and measure lists. But we also need to be careful to avoid common errors when working with list indexes."
   ]
  },
  {
   "cell_type": "markdown",
   "id": "406c22c9",
   "metadata": {},
   "source": [
    "### Sorting in place.\n",
    "The `.sort()` method arranges the list in order and changes the original list."
   ]
  },
  {
   "cell_type": "code",
   "execution_count": 32,
   "id": "95b84988",
   "metadata": {},
   "outputs": [
    {
     "name": "stdout",
     "output_type": "stream",
     "text": [
      "[4, 9, 16, 64, 81]\n"
     ]
    }
   ],
   "source": [
    "squares = [9, 4, 16, 81, 64]\n",
    "squares.sort()   \n",
    "print(squares)  # Output: [4, 9, 16, 64, 81]\n"
   ]
  },
  {
   "cell_type": "markdown",
   "id": "a0b44a34",
   "metadata": {},
   "source": [
    "Sorting in reverse order:"
   ]
  },
  {
   "cell_type": "code",
   "execution_count": 33,
   "id": "91f8f6ec",
   "metadata": {},
   "outputs": [
    {
     "name": "stdout",
     "output_type": "stream",
     "text": [
      "[81, 64, 16, 9, 4]\n"
     ]
    }
   ],
   "source": [
    "squares.sort(reverse=True)\n",
    "print(squares)  # Output: [81, 64, 16, 9, 4]"
   ]
  },
  {
   "cell_type": "markdown",
   "id": "8f19b819",
   "metadata": {},
   "source": [
    "### Sorting Temporarily with `sorted()`\n",
    "The `sorted()` function leaves the original list unchanged, and instead gives back a new, sorted list."
   ]
  },
  {
   "cell_type": "code",
   "execution_count": null,
   "id": "91c0c276",
   "metadata": {},
   "outputs": [],
   "source": [
    "squares = [9, 4, 16, 81, 64]\n",
    "sorted_squares = sorted(squares)\n",
    "print(sorted_squares)  # Output: [4, 9, 16, 64, 81]\n",
    "print(squares)         # Original list remains unchanged: [9, 4, 16, 81, 64]\n"
   ]
  },
  {
   "cell_type": "markdown",
   "id": "aa413bca",
   "metadata": {},
   "source": [
    "### Sorting Strings Alphabetically\n",
    "By default, Python sorts strings in alphabetical order."
   ]
  },
  {
   "cell_type": "code",
   "execution_count": 35,
   "id": "2457511c",
   "metadata": {},
   "outputs": [
    {
     "name": "stdout",
     "output_type": "stream",
     "text": [
      "['apple', 'banana', 'cherry', 'date']\n"
     ]
    }
   ],
   "source": [
    "fruits = [\"banana\", \"apple\",  \"date\",\"cherry\"]\n",
    "fruits.sort()\n",
    "print(fruits)  # ['apple', 'banana', 'cherry', 'date']"
   ]
  },
  {
   "cell_type": "markdown",
   "id": "756fcec6",
   "metadata": {},
   "source": [
    "Notice that it is case-sensitive: \n",
    " - capital letters come before lowercase ones because of their ASCII values."
   ]
  },
  {
   "cell_type": "code",
   "execution_count": 48,
   "id": "4457a1d3",
   "metadata": {},
   "outputs": [
    {
     "name": "stdout",
     "output_type": "stream",
     "text": [
      "['BMW', 'Toyota', 'audi', 'subaru']\n"
     ]
    }
   ],
   "source": [
    "cars = [\"BMW\", \"audi\", \"Toyota\", \"subaru\"]\n",
    "print(sorted(cars))   # ['BMW', 'Toyota','audi', 'subaru']"
   ]
  },
  {
   "cell_type": "markdown",
   "id": "a49d5d4d",
   "metadata": {},
   "source": [
    "### Reversing a List\n",
    "You can reverse the order of a list using the `.reverse()` method."
   ]
  },
  {
   "cell_type": "code",
   "execution_count": 51,
   "id": "edf0b1a9",
   "metadata": {},
   "outputs": [
    {
     "name": "stdout",
     "output_type": "stream",
     "text": [
      "['blue', 'green', 'red']\n"
     ]
    }
   ],
   "source": [
    "colors = [\"red\", \"green\", \"blue\"]\n",
    "colors.reverse()\n",
    "print(colors)  # ['blue', 'green', 'red']\n"
   ]
  }
 ],
 "metadata": {
  "kernelspec": {
   "display_name": "census",
   "language": "python",
   "name": "python3"
  },
  "language_info": {
   "codemirror_mode": {
    "name": "ipython",
    "version": 3
   },
   "file_extension": ".py",
   "mimetype": "text/x-python",
   "name": "python",
   "nbconvert_exporter": "python",
   "pygments_lexer": "ipython3",
   "version": "3.13.5"
  }
 },
 "nbformat": 4,
 "nbformat_minor": 5
}
