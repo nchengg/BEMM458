{
 "cells": [
  {
   "cell_type": "markdown",
   "id": "042af774",
   "metadata": {},
   "source": [
    "# Looping\n",
    "One of the most powerful tools in programming is the ability to repeat actions automatically. Instead of writing the same line of code over and over, we use loops. In Python, the most common loop is the `for` loop."
   ]
  },
  {
   "cell_type": "markdown",
   "id": "98f00fdc",
   "metadata": {},
   "source": [
    "### Using a `for` loop\n",
    "A `for` loop goes through each item in a sequence (like a list or string).\n",
    " "
   ]
  },
  {
   "cell_type": "code",
   "execution_count": null,
   "id": "06b24255",
   "metadata": {},
   "outputs": [
    {
     "name": "stdout",
     "output_type": "stream",
     "text": [
      "apple\n",
      "banana\n",
      "cherry\n"
     ]
    }
   ],
   "source": [
    "fruits = [\"apple\", \"banana\", \"cherry\"]\n",
    "for fruit in fruits:\n",
    "    print(fruit)"
   ]
  },
  {
   "cell_type": "markdown",
   "id": "070cf070",
   "metadata": {},
   "source": [
    " - The variable fruit takes on each value in turn."
   ]
  },
  {
   "cell_type": "markdown",
   "id": "e6a051d5",
   "metadata": {},
   "source": [
    "### Understanding indentation\n",
    "In Python, indentation isn’t optional — it tells Python what code belongs to the loop."
   ]
  },
  {
   "cell_type": "code",
   "execution_count": 2,
   "id": "926cb802",
   "metadata": {},
   "outputs": [
    {
     "name": "stdout",
     "output_type": "stream",
     "text": [
      "I like apple\n",
      "Yum!\n",
      "I like banana\n",
      "Yum!\n",
      "I like cherry\n",
      "Yum!\n",
      "Done!\n"
     ]
    }
   ],
   "source": [
    "for fruit in fruits:\n",
    "    print(\"I like\", fruit)\n",
    "    print(\"Yum!\")   # inside the loop\n",
    "print(\"Done!\")      # outside the loop\n"
   ]
  },
  {
   "cell_type": "markdown",
   "id": "b94ccab5",
   "metadata": {},
   "source": [
    " * The default indentaion is 4 spaces. \n",
    " * That what most editors will do when you press tab.\n",
    " * Make sure to be consistent!"
   ]
  },
  {
   "cell_type": "markdown",
   "id": "3ec98957",
   "metadata": {},
   "source": [
    "### Common Indentation mistakes\n",
    " \n",
    " * No indentation."
   ]
  },
  {
   "cell_type": "code",
   "execution_count": null,
   "id": "78ec49c8",
   "metadata": {},
   "outputs": [
    {
     "name": "stdout",
     "output_type": "stream",
     "text": [
      "apple\n",
      "banana\n",
      "cherry\n"
     ]
    }
   ],
   "source": [
    "for fruit in fruits:\n",
    "print(fruit)   # ❌ IndentationError\n",
    "\n"
   ]
  },
  {
   "cell_type": "markdown",
   "id": "e0f7e120",
   "metadata": {},
   "source": [
    "* Too little indentation:"
   ]
  },
  {
   "cell_type": "code",
   "execution_count": null,
   "id": "896ccfd2",
   "metadata": {},
   "outputs": [],
   "source": [
    "for fruit in fruits:\n",
    " print(fruit)   # ✅ Works, but inconsistent indentation (1 space instead of 4)\n",
    " "
   ]
  },
  {
   "cell_type": "markdown",
   "id": "ead6da04",
   "metadata": {},
   "source": [
    " * Too much indentation\n",
    " "
   ]
  },
  {
   "cell_type": "code",
   "execution_count": 5,
   "id": "55b2419a",
   "metadata": {},
   "outputs": [
    {
     "name": "stdout",
     "output_type": "stream",
     "text": [
      "apple\n",
      "banana\n",
      "cherry\n"
     ]
    }
   ],
   "source": [
    "for fruit in fruits:\n",
    "        print(fruit)   # works, but inconsistent style ❌"
   ]
  },
  {
   "cell_type": "markdown",
   "id": "73ef3e4a",
   "metadata": {},
   "source": [
    "### Looping with the function `range()`"
   ]
  },
  {
   "cell_type": "markdown",
   "id": "e502bd9c",
   "metadata": {},
   "source": [
    "Sometimes we want to iterate a specific number of times, or need the index of each item while looping. In these cases, we can use the built-in `range()` function.  \n",
    "\n",
    "* The `range()` function generates a sequence of numbers. By default, `range(n)` gives numbers from 0 to n-1."
   ]
  },
  {
   "cell_type": "code",
   "execution_count": 7,
   "id": "a44bb38c",
   "metadata": {},
   "outputs": [
    {
     "name": "stdout",
     "output_type": "stream",
     "text": [
      "0\n",
      "1\n",
      "2\n",
      "3\n",
      "4\n"
     ]
    }
   ],
   "source": [
    "for number in range(5):\n",
    "    print(number)  # prints 0, 1, 2, 3, 4"
   ]
  },
  {
   "cell_type": "markdown",
   "id": "6c3e0747",
   "metadata": {},
   "source": [
    "Often we wrap it in `list()` to actually see the numbers.\n"
   ]
  },
  {
   "cell_type": "code",
   "execution_count": 14,
   "id": "63ae0744",
   "metadata": {},
   "outputs": [
    {
     "data": {
      "text/plain": [
       "range"
      ]
     },
     "execution_count": 14,
     "metadata": {},
     "output_type": "execute_result"
    }
   ],
   "source": [
    "type(range(10))"
   ]
  },
  {
   "cell_type": "code",
   "execution_count": null,
   "id": "c9357762",
   "metadata": {},
   "outputs": [
    {
     "name": "stdout",
     "output_type": "stream",
     "text": [
      "[0, 1, 2, 3, 4, 5]\n"
     ]
    }
   ],
   "source": [
    "numbers = list(range(6))\n",
    "numbers  # [0, 1, 2, 3, 4, 5]\n"
   ]
  },
  {
   "cell_type": "markdown",
   "id": "fd57f94a",
   "metadata": {},
   "source": [
    "`range()` can take one, two, or three arguments:\n",
    "- `range(stop)`: Generates numbers from 0 up to (but not including) stop.\n",
    "- `range(start, stop)`: Generates numbers from start up to (but not including) stop.\n",
    "- `range(start, stop, step)`: Generates numbers from start up to (but not including) stop, incrementing by step.\n"
   ]
  },
  {
   "cell_type": "code",
   "execution_count": 8,
   "id": "e4e6a56c",
   "metadata": {},
   "outputs": [
    {
     "name": "stdout",
     "output_type": "stream",
     "text": [
      "2\n",
      "3\n",
      "4\n",
      "5\n"
     ]
    }
   ],
   "source": [
    "for number in range(2, 6):\n",
    "    print(number)  # prints 2, 3, 4, 5"
   ]
  },
  {
   "cell_type": "code",
   "execution_count": 9,
   "id": "38fbc585",
   "metadata": {},
   "outputs": [
    {
     "name": "stdout",
     "output_type": "stream",
     "text": [
      "2\n",
      "5\n",
      "8\n",
      "11\n",
      "14\n",
      "17\n"
     ]
    }
   ],
   "source": [
    "for number in range(2, 20, 3):\n",
    "    print(number)  # prints 2, 5, 8, 11, 14, 17"
   ]
  },
  {
   "cell_type": "code",
   "execution_count": 12,
   "id": "3f77721a",
   "metadata": {},
   "outputs": [
    {
     "name": "stdout",
     "output_type": "stream",
     "text": [
      "20\n",
      "17\n",
      "14\n",
      "11\n",
      "8\n",
      "5\n"
     ]
    }
   ],
   "source": [
    "for number in range(20, 2, -3):\n",
    "    print(number)  # prints 20, 17, 14, 11, 8, 5"
   ]
  },
  {
   "cell_type": "markdown",
   "id": "319e6c61",
   "metadata": {},
   "source": [
    "### Simple Statistics\n",
    "Python has built-in functions for quick statistics on numerical lists."
   ]
  },
  {
   "cell_type": "code",
   "execution_count": null,
   "id": "21d4eb39",
   "metadata": {},
   "outputs": [
    {
     "name": "stdout",
     "output_type": "stream",
     "text": [
      "2\n",
      "9\n",
      "26\n"
     ]
    }
   ],
   "source": [
    "numbers = [3, 7, 2, 9, 5]\n",
    "print(min(numbers))  # 2\n",
    "print(max(numbers))  # 9\n",
    "print(sum(numbers))  # 26\n",
    "\n"
   ]
  },
  {
   "cell_type": "markdown",
   "id": "c4ad1035",
   "metadata": {},
   "source": [
    "## List comprehensions\n",
    "List comprehensions are a shortcut for building lists in one line.\n"
   ]
  },
  {
   "cell_type": "code",
   "execution_count": null,
   "id": "4f01188d",
   "metadata": {},
   "outputs": [
    {
     "data": {
      "text/plain": [
       "[6, 14, 4, 18, 10]"
      ]
     },
     "execution_count": 14,
     "metadata": {},
     "output_type": "execute_result"
    }
   ],
   "source": [
    "numbers = [3, 7, 2, 9, 5]\n",
    "double_numbers = [num * 2 for num in numbers]\n",
    "double_numbers # [6, 14, 4, 18, 10]"
   ]
  },
  {
   "cell_type": "code",
   "execution_count": 15,
   "id": "f600edc9",
   "metadata": {},
   "outputs": [
    {
     "name": "stdout",
     "output_type": "stream",
     "text": [
      "[1, 4, 9, 16, 25]\n"
     ]
    }
   ],
   "source": [
    "squares = [x**2 for x in range(1, 6)]\n",
    "print(squares)  # [1, 4, 9, 16, 25]\n"
   ]
  },
  {
   "cell_type": "code",
   "execution_count": null,
   "id": "93546ba4",
   "metadata": {},
   "outputs": [
    {
     "data": {
      "text/plain": [
       "[1, 3, 0]"
      ]
     },
     "execution_count": 15,
     "metadata": {},
     "output_type": "execute_result"
    }
   ],
   "source": [
    "fruits = [\"apple\", \"banana\", \"cherry\"]\n",
    "num_of_as = [fruit.count('a') for fruit in fruits]\n",
    "num_of_as  # [1, 3, 0]"
   ]
  },
  {
   "cell_type": "markdown",
   "id": "58735889",
   "metadata": {},
   "source": [
    "We can also use list comprehensions with conditions:\n",
    "    "
   ]
  },
  {
   "cell_type": "code",
   "execution_count": 1,
   "id": "30ad21ac",
   "metadata": {},
   "outputs": [
    {
     "name": "stdout",
     "output_type": "stream",
     "text": [
      "[0, 2, 4, 6, 8]\n"
     ]
    }
   ],
   "source": [
    "evens = [x for x in range(10) if x % 2 == 0]\n",
    "print(evens)  # [0, 2, 4, 6,"
   ]
  },
  {
   "cell_type": "markdown",
   "id": "3303e60e",
   "metadata": {},
   "source": [
    "### Quick Practice\n",
    "What will this code produce?"
   ]
  },
  {
   "cell_type": "code",
   "execution_count": 6,
   "id": "2ff715d9",
   "metadata": {},
   "outputs": [
    {
     "name": "stdout",
     "output_type": "stream",
     "text": [
      "[10, 20, 30, 40, 50]\n",
      "150\n"
     ]
    }
   ],
   "source": [
    "nums = [n*10 for n in range(1, 6)]\n",
    "print(nums)\n",
    "print(sum(nums))\n",
    "\n",
    "\n",
    "#\n",
    "# [10, 20, 30, 40, 50]\n",
    "# 150\n",
    "# \n"
   ]
  },
  {
   "cell_type": "code",
   "execution_count": null,
   "id": "6f25aa7a",
   "metadata": {},
   "outputs": [],
   "source": []
  }
 ],
 "metadata": {
  "kernelspec": {
   "display_name": "census",
   "language": "python",
   "name": "python3"
  },
  "language_info": {
   "codemirror_mode": {
    "name": "ipython",
    "version": 3
   },
   "file_extension": ".py",
   "mimetype": "text/x-python",
   "name": "python",
   "nbconvert_exporter": "python",
   "pygments_lexer": "ipython3",
   "version": "3.13.5"
  }
 },
 "nbformat": 4,
 "nbformat_minor": 5
}
