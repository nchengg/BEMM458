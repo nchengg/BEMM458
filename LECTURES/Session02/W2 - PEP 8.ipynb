{
 "cells": [
  {
   "cell_type": "markdown",
   "id": "ca471b55",
   "metadata": {},
   "source": [
    "\n",
    "# Code Styling in Python (PEP 8 Basics)"
   ]
  },
  {
   "cell_type": "markdown",
   "id": "773238f6",
   "metadata": {},
   "source": [
    "When writing Python, it’s not just about making the code work — it’s about making it **readable** and **consistent**. To help with this, Python has an official style guide called **PEP 8**. Let’s look at a few key rules you’ll use every day: indentation, line length, and blank lines.\"\n",
    "\n",
    " * Python uses indentation not only for style, but also for syntax. PEP 8 recommends using 4 spaces per indentation level.\n",
    " * Avoid using tabs — always use spaces. Most editors handle this automatically."
   ]
  },
  {
   "cell_type": "code",
   "execution_count": 1,
   "id": "26b5e638",
   "metadata": {},
   "outputs": [
    {
     "name": "stdout",
     "output_type": "stream",
     "text": [
      "0\n",
      "1\n",
      "2\n",
      "0\n",
      "1\n",
      "2\n"
     ]
    }
   ],
   "source": [
    "# Good\n",
    "for i in range(3):\n",
    "    print(i)\n",
    "\n",
    "# Bad (2 spaces)\n",
    "for i in range(3):\n",
    "  print(i)\n"
   ]
  },
  {
   "cell_type": "markdown",
   "id": "c2dc96ab",
   "metadata": {},
   "source": [
    " * Keep lines to a maximum of 79 characters. This makes code easier to read on all screens."
   ]
  },
  {
   "cell_type": "code",
   "execution_count": 2,
   "id": "01b21d7c",
   "metadata": {},
   "outputs": [],
   "source": [
    "### Too long\n",
    "message = \"This is a very long string that goes on and on and on and becomes hard to read all in one line.\"\n"
   ]
  },
  {
   "cell_type": "markdown",
   "id": "9c266a21",
   "metadata": {},
   "source": [
    " * Fixed using line breaks:"
   ]
  },
  {
   "cell_type": "code",
   "execution_count": 6,
   "id": "44cd8331",
   "metadata": {},
   "outputs": [],
   "source": [
    "message = (\n",
    "    \"This is a very long string that goes on and on \"\n",
    "    \"and is easier to read when split across lines.\"\n",
    ")\n"
   ]
  },
  {
   "cell_type": "markdown",
   "id": "421ce1ac",
   "metadata": {},
   "source": [
    "### Blank lines\n",
    "\n",
    " * Use blank lines to separate sections of code and improve readability.\n",
    " * PEP 8 recommends two blank lines between top-level functions and classes, and one blank line inside functions to separate logic if needed."
   ]
  },
  {
   "cell_type": "code",
   "execution_count": 8,
   "id": "dd484517",
   "metadata": {},
   "outputs": [],
   "source": [
    "def greet(name):\n",
    "    print(f\"Hello, {name}!\")\n",
    "\n",
    "def farewell(name):\n",
    "    print(f\"Goodbye, {name}!\")\n"
   ]
  },
  {
   "cell_type": "code",
   "execution_count": null,
   "id": "0fafd6bb",
   "metadata": {},
   "outputs": [],
   "source": []
  }
 ],
 "metadata": {
  "kernelspec": {
   "display_name": "census",
   "language": "python",
   "name": "python3"
  },
  "language_info": {
   "codemirror_mode": {
    "name": "ipython",
    "version": 3
   },
   "file_extension": ".py",
   "mimetype": "text/x-python",
   "name": "python",
   "nbconvert_exporter": "python",
   "pygments_lexer": "ipython3",
   "version": "3.13.5"
  }
 },
 "nbformat": 4,
 "nbformat_minor": 5
}
