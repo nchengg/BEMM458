{
 "cells": [
  {
   "cell_type": "markdown",
   "id": "ef3a8192",
   "metadata": {},
   "source": [
    "# Slicing in Python\n",
    "Lists can be very long, but often we only want to work with part of a list — the first few items, the last few, or a specific middle section. Python makes this easy with a technique called **slicing**.\n",
    "\n"
   ]
  },
  {
   "cell_type": "markdown",
   "id": "a2a3d4c0",
   "metadata": {},
   "source": [
    "### Working with Parts of a List\n",
    "\n",
    "Syntax: `list[start:end]` → gives elements from start index up to (but not including) end."
   ]
  },
  {
   "cell_type": "code",
   "execution_count": 1,
   "id": "9df0a3a2",
   "metadata": {},
   "outputs": [
    {
     "name": "stdout",
     "output_type": "stream",
     "text": [
      "['Alice', 'Bob', 'Charlie']\n"
     ]
    }
   ],
   "source": [
    "players = [\"Alice\", \"Bob\", \"Charlie\", \"David\", \"Eva\"]\n",
    "\n",
    "# Getting elements from 0 to 2 (first three players)\n",
    "print(players[0:3])   # ['Alice', 'Bob', 'Charlie']\n",
    "\n"
   ]
  },
  {
   "cell_type": "markdown",
   "id": "14b3382b",
   "metadata": {},
   "source": [
    " - Omitting start:"
   ]
  },
  {
   "cell_type": "code",
   "execution_count": 2,
   "id": "fcfbd28b",
   "metadata": {},
   "outputs": [
    {
     "name": "stdout",
     "output_type": "stream",
     "text": [
      "['Alice', 'Bob']\n"
     ]
    }
   ],
   "source": [
    "print(players[:2])    # ['Alice', 'Bob'] (from beginning)\n"
   ]
  },
  {
   "cell_type": "markdown",
   "id": "ed8371bb",
   "metadata": {},
   "source": [
    " - Omitting end:"
   ]
  },
  {
   "cell_type": "code",
   "execution_count": 3,
   "id": "d4f352d0",
   "metadata": {},
   "outputs": [
    {
     "name": "stdout",
     "output_type": "stream",
     "text": [
      "['Charlie', 'David', 'Eva']\n"
     ]
    }
   ],
   "source": [
    "print(players[2:])    # ['Charlie', 'David', 'Eva'] (to end)"
   ]
  },
  {
   "cell_type": "markdown",
   "id": "e42068ee",
   "metadata": {},
   "source": [
    "Sometimes we want to select elements from the end (e.g., the last 3 elements).\n",
    " - Using negative indices:"
   ]
  },
  {
   "cell_type": "code",
   "execution_count": null,
   "id": "1dc880d7",
   "metadata": {},
   "outputs": [],
   "source": [
    "# From the second last to the end (last two players).\n",
    "\n",
    "print(players[-2:])   # ['David', 'Eva'] \n"
   ]
  },
  {
   "cell_type": "markdown",
   "id": "34a6d69d",
   "metadata": {},
   "source": [
    "### Looping Through a Slice\n",
    "We can loop through just part of a list.\n"
   ]
  },
  {
   "cell_type": "code",
   "execution_count": null,
   "id": "4734313c",
   "metadata": {},
   "outputs": [],
   "source": [
    "players = [\"Alice\", \"Bob\", \"Charlie\", \"David\", \"Eva\"]\n",
    "print(\"First three players:\")\n",
    "for player in players[:3]:\n",
    "    print(player)"
   ]
  },
  {
   "cell_type": "markdown",
   "id": "7be0ad44",
   "metadata": {},
   "source": [
    "### Copying a List with Slicing\n",
    "If we assign one list to another, both names point to the same list:"
   ]
  },
  {
   "cell_type": "code",
   "execution_count": 4,
   "id": "d0655d20",
   "metadata": {},
   "outputs": [
    {
     "name": "stdout",
     "output_type": "stream",
     "text": [
      "[1, 2, 3, 4]\n"
     ]
    }
   ],
   "source": [
    "list1 = [1, 2, 3]\n",
    "list2 = list1\n",
    "list2.append(4)\n",
    "print(list1)  # [1, 2, 3, 4]  ❌ changes both\n"
   ]
  },
  {
   "cell_type": "markdown",
   "id": "651b0276",
   "metadata": {},
   "source": [
    " - To make a true copy, use slicing:"
   ]
  },
  {
   "cell_type": "code",
   "execution_count": 5,
   "id": "25fcb5d1",
   "metadata": {},
   "outputs": [
    {
     "name": "stdout",
     "output_type": "stream",
     "text": [
      "[1, 2, 3]\n",
      "[1, 2, 3, 4]\n"
     ]
    }
   ],
   "source": [
    "list1 = [1, 2, 3]\n",
    "list2 = list1[:]   # full slice makes a copy\n",
    "list2.append(4)\n",
    "print(list1)  # [1, 2, 3]\n",
    "print(list2)  # [1, 2, 3, 4]\n"
   ]
  },
  {
   "cell_type": "markdown",
   "id": "7f2b1067",
   "metadata": {},
   "source": [
    "### Quick Practice\n",
    "What will this print?"
   ]
  },
  {
   "cell_type": "code",
   "execution_count": 6,
   "id": "c66cb262",
   "metadata": {},
   "outputs": [
    {
     "name": "stdout",
     "output_type": "stream",
     "text": [
      "[2, 3, 4]\n",
      "[0, 1, 2]\n",
      "[4, 5, 6]\n"
     ]
    }
   ],
   "source": [
    "numbers = [0, 1, 2, 3, 4, 5, 6]\n",
    "print(numbers[2:5])\n",
    "print(numbers[:3])\n",
    "print(numbers[-3:])\n"
   ]
  }
 ],
 "metadata": {
  "kernelspec": {
   "display_name": "census",
   "language": "python",
   "name": "python3"
  },
  "language_info": {
   "codemirror_mode": {
    "name": "ipython",
    "version": 3
   },
   "file_extension": ".py",
   "mimetype": "text/x-python",
   "name": "python",
   "nbconvert_exporter": "python",
   "pygments_lexer": "ipython3",
   "version": "3.13.5"
  }
 },
 "nbformat": 4,
 "nbformat_minor": 5
}
