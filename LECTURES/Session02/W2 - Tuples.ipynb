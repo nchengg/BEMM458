{
 "cells": [
  {
   "cell_type": "markdown",
   "id": "743639e9",
   "metadata": {},
   "source": [
    "# Tuples\n",
    "We’ve seen that lists are flexible: we can add, remove, and modify elements. But sometimes we want data that should not change. For this, Python provides tuples.\n",
    "\n",
    "### Defining a tuple\n",
    " - Tuples use parentheses `()` instead of square brackets."
   ]
  },
  {
   "cell_type": "code",
   "execution_count": null,
   "id": "1317e52d",
   "metadata": {},
   "outputs": [],
   "source": [
    "dimensions = (200, 50)\n",
    "print(dimensions)  # (200, 50)\n",
    "\n"
   ]
  },
  {
   "cell_type": "markdown",
   "id": "2f087eff",
   "metadata": {},
   "source": [
    " - Unlike lists, once a tuple is created, its elements cannot be changed."
   ]
  },
  {
   "cell_type": "markdown",
   "id": "7900ab7f",
   "metadata": {},
   "source": [
    "### Looping through a tuple\n",
    "We can loop through a tuple just like lists."
   ]
  },
  {
   "cell_type": "code",
   "execution_count": 1,
   "id": "c37947cf",
   "metadata": {},
   "outputs": [
    {
     "name": "stdout",
     "output_type": "stream",
     "text": [
      "200\n",
      "50\n",
      "75\n"
     ]
    }
   ],
   "source": [
    "dimensions = (200, 50, 75)\n",
    "for d in dimensions:\n",
    "    print(d)\n"
   ]
  },
  {
   "cell_type": "markdown",
   "id": "f1157c89",
   "metadata": {},
   "source": [
    " - Tuples are immutable — we cannot change, add or remove items from them."
   ]
  },
  {
   "cell_type": "code",
   "execution_count": 2,
   "id": "693f0e02",
   "metadata": {},
   "outputs": [
    {
     "ename": "TypeError",
     "evalue": "'tuple' object does not support item assignment",
     "output_type": "error",
     "traceback": [
      "\u001b[31m---------------------------------------------------------------------------\u001b[39m",
      "\u001b[31mTypeError\u001b[39m                                 Traceback (most recent call last)",
      "\u001b[36mCell\u001b[39m\u001b[36m \u001b[39m\u001b[32mIn[2]\u001b[39m\u001b[32m, line 2\u001b[39m\n\u001b[32m      1\u001b[39m dimensions = (\u001b[32m200\u001b[39m, \u001b[32m50\u001b[39m)\n\u001b[32m----> \u001b[39m\u001b[32m2\u001b[39m \u001b[43mdimensions\u001b[49m\u001b[43m[\u001b[49m\u001b[32;43m0\u001b[39;49m\u001b[43m]\u001b[49m = \u001b[32m250\u001b[39m   \u001b[38;5;66;03m# ❌ TypeError: 'tuple' object does not support item assignment\u001b[39;00m\n",
      "\u001b[31mTypeError\u001b[39m: 'tuple' object does not support item assignment"
     ]
    }
   ],
   "source": [
    "dimensions = (200, 50)\n",
    "dimensions[0] = 250   # ❌ TypeError: 'tuple' object does not support item assignment\n"
   ]
  },
  {
   "cell_type": "markdown",
   "id": "c7f85962",
   "metadata": {},
   "source": [
    "### Why Use Tuples?\n",
    "Tuples are useful when:\n",
    " - You want to protect data from accidental changes.\n",
    " - You’re working with fixed values (like coordinates, screen sizes, settings).\n",
    " - They can also be used as keys in dictionaries (lists cannot)."
   ]
  }
 ],
 "metadata": {
  "kernelspec": {
   "display_name": "census",
   "language": "python",
   "name": "python3"
  },
  "language_info": {
   "codemirror_mode": {
    "name": "ipython",
    "version": 3
   },
   "file_extension": ".py",
   "mimetype": "text/x-python",
   "name": "python",
   "nbconvert_exporter": "python",
   "pygments_lexer": "ipython3",
   "version": "3.13.5"
  }
 },
 "nbformat": 4,
 "nbformat_minor": 5
}
